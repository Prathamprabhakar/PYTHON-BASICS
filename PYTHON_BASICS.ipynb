{
  "nbformat": 4,
  "nbformat_minor": 0,
  "metadata": {
    "colab": {
      "provenance": []
    },
    "kernelspec": {
      "name": "python3",
      "display_name": "Python 3"
    },
    "language_info": {
      "name": "python"
    }
  },
  "cells": [
    {
      "cell_type": "markdown",
      "source": [
        "# ***PYHTON BASICS ***\n"
      ],
      "metadata": {
        "id": "A9pjq1sboQ4N"
      }
    },
    {
      "cell_type": "code",
      "execution_count": null,
      "metadata": {
        "id": "xwNHMfbqoM6D"
      },
      "outputs": [],
      "source": []
    },
    {
      "cell_type": "markdown",
      "source": [
        "#1. WHAT IS PYTHON AND WHY IT IS POPULAR\n",
        "ANS. Python is a programming language which is used in communication with computers, which creates functions for computer to follow.\n",
        "It is popular because:-\n",
        "1 It is easy to learn\n",
        "2 it has many library\n",
        "3 it has python community which helps all the coders around the world to have access on several codes.\n",
        "\n",
        "#2. What is an interpreter in Python\n",
        "ANS. An interpreter is a programm that coverts texts into which the computer can read the code and execute it.\n",
        "\n",
        "#3. What are pre-defined keywords in Python\n",
        "ANS. pre defined keywords are used to define the syntax and structure of the Python language. Keywords create logic\n",
        "pre defined key words are as follow\n",
        "-if\n",
        "-else\n",
        "-for\n",
        "-while.\n",
        "\n",
        "#4. Can keywords be used as variable names\n",
        "ANS. no keywords cannot be used as variable names as keywords are stored in library of python.\n",
        "\n",
        "#5. What is mutability in Python\n",
        "ANS. mutability a code that can be ammended after its creation.\n",
        "whereas in INmutability like number, strings, tuples cannot be altered after creation.\n",
        "\n",
        "#6. Why are lists mutable, but tuples are immutable\n",
        "ANS. Lists are mutable because the values can be changed after running the code, whereas in tuples if we try to change the value it shows error and it does not support item assignment.\n",
        "\n",
        "\n",
        "#7. What is the difference between “==” and “is” operators in Python\n",
        "ANS. == (Equality Operator):\n",
        "Compares the values of two objects.\n",
        "Returns True if the objects have the same value, and False otherwise.\n",
        "Example: 1 == 1 is True, and 1 == 2 is False.\n",
        "Example: \"hello\" == \"hello\" is True, and \"hello\" == \"world\" is False.\n",
        "is (Identity Operator):\n",
        "Compares the identity of two objects (i.e., whether they are the same object in memory).\n",
        "Returns True if the variables point to the same object, and False otherwise.\n",
        "Example: a = [1, 2, 3]; b = a; a is b is True (because a and b point to the same list object).\n",
        "Example: a = [1, 2, 3]; b = [1, 2, 3]; a is b is False (because a and b point to different list objects, even though they have the same values).\n",
        "\n",
        "#8. What are logical operators in Python\n",
        "ANS. n Python, logical operators, also known as Boolean operators, are used to combine or modify boolean expressions, evaluating to either True or False. The main logical operators are and, or, and not\n",
        "\n",
        "#9. What is type casting in Python\n",
        "TANS. ype Casting is the method to convert the Python variable datatype into a certain data type in order to perform the required operation by users.\n",
        "\n",
        "#10. What is the difference between implicit and explicit type casting\n",
        "ANS. Implicit type casting, also known as widening, occurs automatically by the compiler when converting a smaller data type to a larger one, while explicit type casting, or narrowing, requires the programmer to manually convert a larger data type to a smaller one.\n",
        "\n",
        "#11. What is the purpose of conditional statements in Python?\n",
        "ANS. Conditional statements in Python, like if, elif, and else, allow you to control the flow of your program by executing different code blocks based on whether a condition is true or false, enabling dynamic and responsive programs.\n",
        "\n",
        "#12. How does the elif statement work?\n",
        "ANS. The “elif” keyword in Python, stands for “else if”. It can be used in conditional statements to check for multiple conditions. For example, if the first condition is false, it moves on to the next “elif” statement to check if that condition is true.\n",
        "\n",
        "#13. What is the difference between for and while loops?\n",
        "ANS. The main difference between for and while loops lies in how they determine the number of iterations: for loops are used when the number of iterations is known beforehand, while while loops repeat until a condition becomes false.\n",
        "\n",
        "#14.  Describe a scenario where a while loop is more suitable than a for loop.\n",
        "ANS. in programming, for loops are best used when you know the number of iterations ahead of time, whereas a while loop is best used when you don't know the number of iterations in advance. Both methods can help you iterate through your code.\n",
        "\n",
        "\n",
        "\n",
        "\n",
        "\n",
        "\n",
        "\n",
        "\n",
        "\n",
        "\n",
        "\n",
        "\n",
        "\n",
        "\n",
        "\n",
        "\n",
        "\n",
        "\n",
        "\n",
        "\n",
        "\n",
        "\n",
        "\n",
        "\n",
        "\n",
        "\n",
        "\n",
        "\n",
        "\n",
        "\n",
        "\n",
        "\n",
        "\n",
        "\n",
        "\n",
        "\n",
        "\n",
        "\n",
        "\n",
        "\n",
        "\n",
        "\n",
        "\n",
        "\n",
        "\n",
        "\n",
        "\n",
        "\n",
        "\n",
        "\n",
        "\n"
      ],
      "metadata": {
        "id": "3xLbDKEq4tiD"
      }
    },
    {
      "cell_type": "code",
      "source": [
        "#1st\n",
        "print(\"hello world\")"
      ],
      "metadata": {
        "colab": {
          "base_uri": "https://localhost:8080/"
        },
        "id": "5brV7hPLlCm2",
        "outputId": "836230c4-6edd-41e0-fab3-4123cad0ec53"
      },
      "execution_count": 6,
      "outputs": [
        {
          "output_type": "stream",
          "name": "stdout",
          "text": [
            "hello world\n"
          ]
        }
      ]
    },
    {
      "cell_type": "code",
      "source": [
        "#2nd\n",
        "print(\"Pratham Prabhakar 09/10/2002\")"
      ],
      "metadata": {
        "colab": {
          "base_uri": "https://localhost:8080/"
        },
        "id": "sLVuULXXlHk3",
        "outputId": "05bb1d07-bdb7-4aa3-8c4d-1d5dd96e0632"
      },
      "execution_count": 2,
      "outputs": [
        {
          "output_type": "stream",
          "name": "stdout",
          "text": [
            "Pratham Prabhakar 09/10/2002\n"
          ]
        }
      ]
    },
    {
      "cell_type": "code",
      "source": [
        "#3rd\n",
        "import keyword\n",
        "print(keyword.kwlist)"
      ],
      "metadata": {
        "colab": {
          "base_uri": "https://localhost:8080/"
        },
        "id": "0tzdR45Tltw6",
        "outputId": "c3c54946-f890-420f-f403-f0c5e0bfdf3a"
      },
      "execution_count": 5,
      "outputs": [
        {
          "output_type": "stream",
          "name": "stdout",
          "text": [
            "['False', 'None', 'True', 'and', 'as', 'assert', 'async', 'await', 'break', 'class', 'continue', 'def', 'del', 'elif', 'else', 'except', 'finally', 'for', 'from', 'global', 'if', 'import', 'in', 'is', 'lambda', 'nonlocal', 'not', 'or', 'pass', 'raise', 'return', 'try', 'while', 'with', 'yield']\n"
          ]
        }
      ]
    },
    {
      "cell_type": "code",
      "source": [
        "#4th\n",
        "import keyword\n",
        "def check_keyword(word):\n",
        "    if keyword.iskeyword(word):\n",
        "        print(f\"'{word}' is a Python keyword.\")\n",
        "    else:\n",
        "        print(f\"'{word}' is not a Python keyword.\")"
      ],
      "metadata": {
        "id": "z-4B5pXjlyJC"
      },
      "execution_count": 8,
      "outputs": []
    },
    {
      "cell_type": "code",
      "source": [
        "#5th\n",
        "# Creating a list\n",
        "my_list = [1, 2, 3, 4, 5]\n",
        "\n",
        "# Attempting to change an element in the list\n",
        "print(\"Original list:\", my_list)\n",
        "my_list[2] = 100  # Changing the element at index 2\n",
        "print(\"Modified list:\", my_list)\n",
        "\n",
        "# Creating a tuple\n",
        "my_tuple = (1, 2, 3, 4, 5)\n",
        "\n",
        "# Attempting to change an element in the tuple\n",
        "print(\"\\nOriginal tuple:\", my_tuple)"
      ],
      "metadata": {
        "colab": {
          "base_uri": "https://localhost:8080/"
        },
        "id": "_Gj9ILB-mdVB",
        "outputId": "2de5aa4d-8213-4c7b-fd09-6131f08e42f3"
      },
      "execution_count": 9,
      "outputs": [
        {
          "output_type": "stream",
          "name": "stdout",
          "text": [
            "Original list: [1, 2, 3, 4, 5]\n",
            "Modified list: [1, 2, 100, 4, 5]\n",
            "\n",
            "Original tuple: (1, 2, 3, 4, 5)\n"
          ]
        }
      ]
    },
    {
      "cell_type": "code",
      "source": [
        "#6th\n",
        "def modify_arguments(immutable_arg, mutable_arg):\n",
        "    print(\"Before modification:\")\n",
        "    print(\"Immutable argument:\", immutable_arg)\n",
        "    print(\"Mutable argument:\", mutable_arg)\n",
        "\n",
        "    # Trying to modify the immutable argument (integer)\n",
        "    immutable_arg += 10\n",
        "\n",
        "    # Trying to modify the mutable argument (list)\n",
        "    mutable_arg.append(100)\n",
        "\n",
        "    print(\"After modification:\")\n",
        "    print(\"Immutable argument:\", immutable_arg)\n",
        "    print(\"Mutable argument:\", mutable_arg)\n",
        "\n",
        "# Test the function\n",
        "immutable_var = 50  # Immutable (integer)\n",
        "mutable_var = [1, 2, 3]  # Mutable (list)\n",
        "\n",
        "modify_arguments(immutable_var, mutable_var)\n",
        "\n",
        "print(\"Outside function:\")\n",
        "print(\"Immutable variable:\", immutable_var)  # Unchanged\n",
        "print(\"Mutable variable:\", mutable_var)  # Changed"
      ],
      "metadata": {
        "colab": {
          "base_uri": "https://localhost:8080/"
        },
        "id": "EavTxwOgm3-4",
        "outputId": "6867052a-0feb-4af6-9131-8fd5fa7fb454"
      },
      "execution_count": 10,
      "outputs": [
        {
          "output_type": "stream",
          "name": "stdout",
          "text": [
            "Before modification:\n",
            "Immutable argument: 50\n",
            "Mutable argument: [1, 2, 3]\n",
            "After modification:\n",
            "Immutable argument: 60\n",
            "Mutable argument: [1, 2, 3, 100]\n",
            "Outside function:\n",
            "Immutable variable: 50\n",
            "Mutable variable: [1, 2, 3, 100]\n"
          ]
        }
      ]
    },
    {
      "cell_type": "code",
      "source": [
        "#8th\n",
        "# Program to demonstrate the use of logical operators\n",
        "\n",
        "def logical_operators_demo(a, b):\n",
        "    print(f\"Values: a = {a}, b = {b}\")\n",
        "\n",
        "    # AND operator\n",
        "    print(\"a > 10 and b > 10:\", a > 10 and b > 10)\n",
        "\n",
        "    # OR operator\n",
        "    print(\"a > 10 or b > 10:\", a > 10 or b > 10)\n",
        "\n",
        "    # NOT operator\n",
        "    print(\"not (a > 10):\", not (a > 10))\n",
        "\n",
        "# Test the function\n",
        "logical_operators_demo(15, 5)\n",
        "logical_operators_demo(5, 20)\n",
        "logical_operators_demo(8, 3)"
      ],
      "metadata": {
        "colab": {
          "base_uri": "https://localhost:8080/"
        },
        "id": "xoha9rnsnScw",
        "outputId": "ecbf3524-b1bb-4d86-fbbc-73abd87ce166"
      },
      "execution_count": 11,
      "outputs": [
        {
          "output_type": "stream",
          "name": "stdout",
          "text": [
            "Values: a = 15, b = 5\n",
            "a > 10 and b > 10: False\n",
            "a > 10 or b > 10: True\n",
            "not (a > 10): False\n",
            "Values: a = 5, b = 20\n",
            "a > 10 and b > 10: False\n",
            "a > 10 or b > 10: True\n",
            "not (a > 10): True\n",
            "Values: a = 8, b = 3\n",
            "a > 10 and b > 10: False\n",
            "a > 10 or b > 10: False\n",
            "not (a > 10): True\n"
          ]
        }
      ]
    },
    {
      "cell_type": "code",
      "source": [
        "#9th  Write a Python program to convert user input from string to integer, float, and boolean types.\n",
        "# Program to demonstrate type conversion from string to integer, float, and boolean\n",
        "\n",
        "def convert_input(user_input):\n",
        "    try:\n",
        "        int_value = int(user_input)\n",
        "        print(f\"Integer conversion: {int_value}\")\n",
        "    except ValueError:\n",
        "        print(\"Invalid integer conversion\")\n",
        "\n",
        "    try:\n",
        "        float_value = float(user_input)\n",
        "        print(f\"Float conversion: {float_value}\")\n",
        "    except ValueError:\n",
        "        print(\"Invalid float conversion\")\n",
        "\n",
        "    bool_value = bool(user_input)  # Converts empty string to False, others to True\n",
        "    print(f\"Boolean conversion: {bool_value}\")\n",
        "\n",
        "# Get user input and convert\n",
        "user_input = input(\"Enter a value: \")\n",
        "convert_input(user_input)"
      ],
      "metadata": {
        "colab": {
          "base_uri": "https://localhost:8080/"
        },
        "id": "rKMyc9BEnc9z",
        "outputId": "9d185972-8ca5-466a-846e-cb20e9161c5c"
      },
      "execution_count": 12,
      "outputs": [
        {
          "output_type": "stream",
          "name": "stdout",
          "text": [
            "Enter a value: 20\n",
            "Integer conversion: 20\n",
            "Float conversion: 20.0\n",
            "Boolean conversion: True\n"
          ]
        }
      ]
    },
    {
      "cell_type": "code",
      "source": [
        "#10 Write code to demonstrate type casting with list elements.\n",
        "# Program to demonstrate type conversion from string to integer, float, and boolean\n",
        "\n",
        "def convert_input(user_input):\n",
        "    try:\n",
        "        int_value = int(user_input)\n",
        "        print(f\"Integer conversion: {int_value}\")\n",
        "    except ValueError:\n",
        "        print(\"Invalid integer conversion\")\n",
        "\n",
        "    try:\n",
        "        float_value = float(user_input)\n",
        "        print(f\"Float conversion: {float_value}\")\n",
        "    except ValueError:\n",
        "        print(\"Invalid float conversion\")\n",
        "\n",
        "    bool_value = bool(user_input)  # Converts empty string to False, others to True\n",
        "    print(f\"Boolean conversion: {bool_value}\")\n",
        "\n",
        "# Function to demonstrate type casting with list elements\n",
        "def convert_list_elements(string_list):\n",
        "    int_list = []\n",
        "    float_list = []\n",
        "    bool_list = []\n",
        "\n",
        "    for item in string_list:\n",
        "        try:\n",
        "            int_list.append(int(item))\n",
        "        except ValueError:\n",
        "            int_list.append(None)  # Append None if conversion fails\n",
        "\n",
        "        try:\n",
        "            float_list.append(float(item))\n",
        "        except ValueError:\n",
        "            float_list.append(None)\n",
        "\n",
        "        bool_list.append(bool(item))  # Converts empty string to False, others to True\n",
        "\n",
        "    print(\"Converted integer list:\", int_list)\n",
        "    print(\"Converted float list:\", float_list)\n",
        "    print(\"Converted boolean list:\", bool_list)\n",
        "\n",
        "# Get user input and convert\n",
        "user_input = input(\"Enter a value: \")\n",
        "convert_input(user_input)\n",
        "\n",
        "# Example list to demonstrate type casting\n",
        "string_list = [\"10\", \"20.5\", \"\", \"hello\", \"0\", \"1\"]\n",
        "convert_list_elements(string_list)"
      ],
      "metadata": {
        "colab": {
          "base_uri": "https://localhost:8080/"
        },
        "id": "cZ_TCXy0nrRc",
        "outputId": "7d0b638b-d883-49c6-bbd5-e19def02decf"
      },
      "execution_count": 13,
      "outputs": [
        {
          "output_type": "stream",
          "name": "stdout",
          "text": [
            "Enter a value: 23\n",
            "Integer conversion: 23\n",
            "Float conversion: 23.0\n",
            "Boolean conversion: True\n",
            "Converted integer list: [10, None, None, None, 0, 1]\n",
            "Converted float list: [10.0, 20.5, None, None, 0.0, 1.0]\n",
            "Converted boolean list: [True, True, False, True, True, True]\n"
          ]
        }
      ]
    },
    {
      "cell_type": "code",
      "source": [
        "#11 Write a program that checks if a number is positive, negative, or zero.\n",
        "def convert_input(user_input):\n",
        "    try:\n",
        "        int_value = int(user_input)\n",
        "        print(f\"Integer conversion: {int_value}\")\n",
        "    except ValueError:\n",
        "        print(\"Invalid integer conversion\")\n",
        "\n",
        "    try:\n",
        "        float_value = float(user_input)\n",
        "        print(f\"Float conversion: {float_value}\")\n",
        "    except ValueError:\n",
        "        print(\"Invalid float conversion\")\n",
        "\n",
        "    bool_value = bool(user_input)  # Converts empty string to False, others to True\n",
        "    print(f\"Boolean conversion: {bool_value}\")\n",
        "\n",
        "# Function to demonstrate type casting with list elements\n",
        "def convert_list_elements(string_list):\n",
        "    int_list = []\n",
        "    float_list = []\n",
        "    bool_list = []\n",
        "\n",
        "    for item in string_list:\n",
        "        try:\n",
        "            int_list.append(int(item))\n",
        "        except ValueError:\n",
        "            int_list.append(None)  # Append None if conversion fails\n",
        "\n",
        "        try:\n",
        "            float_list.append(float(item))\n",
        "        except ValueError:\n",
        "            float_list.append(None)\n",
        "\n",
        "        bool_list.append(bool(item))  # Converts empty string to False, others to True\n",
        "\n",
        "    print(\"Converted integer list:\", int_list)\n",
        "    print(\"Converted float list:\", float_list)\n",
        "    print(\"Converted boolean list:\", bool_list)\n",
        "\n",
        "# Function to check if a number is positive, negative, or zero\n",
        "def check_number(num):\n",
        "    if num > 0:\n",
        "        print(\"The number is positive.\")\n",
        "    elif num < 0:\n",
        "        print(\"The number is negative.\")\n",
        "    else:\n",
        "        print(\"The number is zero.\")\n",
        "\n",
        "# Get user input and convert\n",
        "user_input = input(\"Enter a value: \")\n",
        "convert_input(user_input)\n",
        "\n",
        "# Example list to demonstrate type casting\n",
        "string_list = [\"10\", \"20.5\", \"\", \"hello\", \"0\", \"1\"]\n",
        "convert_list_elements(string_list)\n",
        "\n",
        "# Check number status\n",
        "try:\n",
        "    number = float(input(\"Enter a number to check: \"))\n",
        "    check_number(number)\n",
        "except ValueError:\n",
        "    print(\"Invalid input. Please enter a valid number.\")"
      ],
      "metadata": {
        "colab": {
          "base_uri": "https://localhost:8080/"
        },
        "id": "zUQV4of4n6SF",
        "outputId": "e6d7c2cd-954c-4e1c-d6a6-3a698ad24931"
      },
      "execution_count": 14,
      "outputs": [
        {
          "output_type": "stream",
          "name": "stdout",
          "text": [
            "Enter a value: 29\n",
            "Integer conversion: 29\n",
            "Float conversion: 29.0\n",
            "Boolean conversion: True\n",
            "Converted integer list: [10, None, None, None, 0, 1]\n",
            "Converted float list: [10.0, 20.5, None, None, 0.0, 1.0]\n",
            "Converted boolean list: [True, True, False, True, True, True]\n",
            "Enter a number to check: 2\n",
            "The number is positive.\n"
          ]
        }
      ]
    },
    {
      "cell_type": "code",
      "source": [
        "#12th Write a for loop to print numbers from 1 to 10.\n",
        "def convert_input(user_input):\n",
        "    try:\n",
        "        int_value = int(user_input)\n",
        "        print(f\"Integer conversion: {int_value}\")\n",
        "    except ValueError:\n",
        "        print(\"Invalid integer conversion\")\n",
        "\n",
        "    try:\n",
        "        float_value = float(user_input)\n",
        "        print(f\"Float conversion: {float_value}\")\n",
        "    except ValueError:\n",
        "        print(\"Invalid float conversion\")\n",
        "\n",
        "    bool_value = bool(user_input)  # Converts empty string to False, others to True\n",
        "    print(f\"Boolean conversion: {bool_value}\")\n",
        "\n",
        "# Function to demonstrate type casting with list elements\n",
        "def convert_list_elements(string_list):\n",
        "    int_list = []\n",
        "    float_list = []\n",
        "    bool_list = []\n",
        "\n",
        "    for item in string_list:\n",
        "        try:\n",
        "            int_list.append(int(item))\n",
        "        except ValueError:\n",
        "            int_list.append(None)  # Append None if conversion fails\n",
        "\n",
        "        try:\n",
        "            float_list.append(float(item))\n",
        "        except ValueError:\n",
        "            float_list.append(None)\n",
        "\n",
        "        bool_list.append(bool(item))  # Converts empty string to False, others to True\n",
        "\n",
        "    print(\"Converted integer list:\", int_list)\n",
        "    print(\"Converted float list:\", float_list)\n",
        "    print(\"Converted boolean list:\", bool_list)\n",
        "\n",
        "# Function to check if a number is positive, negative, or zero\n",
        "def check_number(num):\n",
        "    if num > 0:\n",
        "        print(\"The number is positive.\")\n",
        "    elif num < 0:\n",
        "        print(\"The number is negative.\")\n",
        "    else:\n",
        "        print(\"The number is zero.\")\n",
        "\n",
        "# Function to print numbers from 1 to 10\n",
        "def print_numbers():\n",
        "    for i in range(1, 11):\n",
        "        print(i)\n",
        "\n",
        "# Get user input and convert\n",
        "user_input = input(\"Enter a value: \")\n",
        "convert_input(user_input)\n",
        "\n",
        "# Example list to demonstrate type casting\n",
        "string_list = [\"10\", \"20.5\", \"\", \"hello\", \"0\", \"1\"]\n",
        "convert_list_elements(string_list)\n",
        "\n",
        "# Check number status\n",
        "try:\n",
        "    number = float(input(\"Enter a number to check: \"))\n",
        "    check_number(number)\n",
        "except ValueError:\n",
        "    print(\"Invalid input. Please enter a valid number.\")\n",
        "\n",
        "# Print numbers from 1 to 10\n",
        "print_numbers()"
      ],
      "metadata": {
        "colab": {
          "base_uri": "https://localhost:8080/"
        },
        "id": "Ec8JPnmEoE1I",
        "outputId": "95698178-5972-42da-ea84-40f9ec742c24"
      },
      "execution_count": 15,
      "outputs": [
        {
          "output_type": "stream",
          "name": "stdout",
          "text": [
            "Enter a value: 29\n",
            "Integer conversion: 29\n",
            "Float conversion: 29.0\n",
            "Boolean conversion: True\n",
            "Converted integer list: [10, None, None, None, 0, 1]\n",
            "Converted float list: [10.0, 20.5, None, None, 0.0, 1.0]\n",
            "Converted boolean list: [True, True, False, True, True, True]\n",
            "Enter a number to check: 29\n",
            "The number is positive.\n",
            "1\n",
            "2\n",
            "3\n",
            "4\n",
            "5\n",
            "6\n",
            "7\n",
            "8\n",
            "9\n",
            "10\n"
          ]
        }
      ]
    },
    {
      "cell_type": "code",
      "source": [
        "#13TH Write a Python program to find the sum of all even numbers between 1 and 50.\n",
        "def sum_even_numbers():\n",
        "    total = sum(i for i in range(1, 51) if i % 2 == 0)\n",
        "    print(\"Sum of even numbers between 1 and 50:\", total)\n",
        "\n",
        "# Call the function\n",
        "sum_even_numbers()\n"
      ],
      "metadata": {
        "colab": {
          "base_uri": "https://localhost:8080/"
        },
        "id": "jemTH6r0oV-Y",
        "outputId": "530bbfea-2fc5-4a96-e652-37ef81b318bd"
      },
      "execution_count": 16,
      "outputs": [
        {
          "output_type": "stream",
          "name": "stdout",
          "text": [
            "Sum of even numbers between 1 and 50: 650\n"
          ]
        }
      ]
    },
    {
      "cell_type": "code",
      "source": [
        "#14TH  Write a program to reverse a string using a while loop\n",
        "def sum_even_numbers():\n",
        "    total = sum(i for i in range(1, 51) if i % 2 == 0)\n",
        "    print(\"Sum of even numbers between 1 and 50:\", total)\n",
        "\n",
        "# Function to reverse a string using a while loop\n",
        "def reverse_string(s):\n",
        "    reversed_str = \"\"\n",
        "    index = len(s) - 1\n",
        "    while index >= 0:\n",
        "        reversed_str += s[index]\n",
        "        index -= 1\n",
        "    return reversed_str\n",
        "\n",
        "# Call the functions\n",
        "sum_even_numbers()\n",
        "\n",
        "# Example usage of string reversal\n",
        "input_string = \"hello\"\n",
        "print(\"Reversed string:\", reverse_string(input_string))"
      ],
      "metadata": {
        "colab": {
          "base_uri": "https://localhost:8080/"
        },
        "id": "5rgZPrq0orv-",
        "outputId": "b0acf112-d262-45cc-a391-4f20ad2ee094"
      },
      "execution_count": 17,
      "outputs": [
        {
          "output_type": "stream",
          "name": "stdout",
          "text": [
            "Sum of even numbers between 1 and 50: 650\n",
            "Reversed string: olleh\n"
          ]
        }
      ]
    },
    {
      "cell_type": "code",
      "source": [
        "#15TH  Write a Python program to calculate the factorial of a number provided by the user using a while loOP.\n",
        "# Function to calculate factorial using a while loop\n",
        "def factorial(n):\n",
        "    if n < 0:\n",
        "        return \"Factorial not defined for negative numbers\"\n",
        "    result = 1\n",
        "    while n > 0:\n",
        "        result *= n\n",
        "        n -= 1\n",
        "    return result\n"
      ],
      "metadata": {
        "id": "3UeWeFPco9t2"
      },
      "execution_count": 18,
      "outputs": []
    },
    {
      "cell_type": "code",
      "source": [],
      "metadata": {
        "id": "Hvur2INqpPxI"
      },
      "execution_count": null,
      "outputs": []
    }
  ]
}